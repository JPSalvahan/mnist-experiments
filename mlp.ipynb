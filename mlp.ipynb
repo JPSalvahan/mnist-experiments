{
 "cells": [
  {
   "cell_type": "code",
   "execution_count": 1,
   "metadata": {},
   "outputs": [
    {
     "name": "stdout",
     "output_type": "stream",
     "text": [
      "Loaded 10000 images.\n",
      "Loaded 20000 images.\n",
      "Loaded 30000 images.\n",
      "Loaded 40000 images.\n",
      "Loaded 50000 images.\n",
      "Loaded 60000 images.\n"
     ]
    }
   ],
   "source": [
    "import os\n",
    "import torch\n",
    "from torchvision import io, transforms\n",
    "\n",
    "# List of tuples (image, label)\n",
    "dataset = []\n",
    "\n",
    "# Load images and labels from files\n",
    "with open(\"dataset\\labels.txt\", \"r\") as labels:\n",
    "    for i, line in enumerate(labels):\n",
    "        img_path = os.path.join('dataset\\images', f\"{i}.png\")\n",
    "        img = io.read_image(img_path) / 255.0\n",
    "        dataset.append((img, int(line.strip())))\n",
    "        if (i+1) % 10000 == 0:\n",
    "            print(f\"Loaded {i+1} images.\")"
   ]
  },
  {
   "cell_type": "code",
   "execution_count": 8,
   "metadata": {},
   "outputs": [
    {
     "name": "stdout",
     "output_type": "stream",
     "text": [
      "37242.png\n",
      "Label: 9\n"
     ]
    },
    {
     "data": {
      "image/jpeg": "[encoded data removed]",
      "image/png": "[encoded data removed]",
      "text/plain": [
       "<PIL.Image.Image image mode=L size=28x28>"
      ]
     },
     "metadata": {},
     "output_type": "display_data"
    }
   ],
   "source": [
    "# Display a sample from the set\n",
    "rand_i = torch.randint(0, len(dataset), (1,)).item()\n",
    "print(f\"{rand_i}.png\")\n",
    "print(f\"Label: {dataset[rand_i][1]}\")\n",
    "display(transforms.ToPILImage()(dataset[rand_i][0]))"
   ]
  }
 ],
 "metadata": {
  "kernelspec": {
   "display_name": "Python 3",
   "language": "python",
   "name": "python3"
  },
  "language_info": {
   "codemirror_mode": {
    "name": "ipython",
    "version": 3
   },
   "file_extension": ".py",
   "mimetype": "text/x-python",
   "name": "python",
   "nbconvert_exporter": "python",
   "pygments_lexer": "ipython3",
   "version": "3.10.6"
  }
 },
 "nbformat": 4,
 "nbformat_minor": 2
}
